{
 "cells": [
  {
   "cell_type": "code",
   "execution_count": 2,
   "id": "f0c2ed3a",
   "metadata": {},
   "outputs": [
    {
     "name": "stdout",
     "output_type": "stream",
     "text": [
      "Hello world\n"
     ]
    }
   ],
   "source": [
    "print('Hello world')"
   ]
  },
  {
   "cell_type": "markdown",
   "id": "80b983e3",
   "metadata": {},
   "source": [
    "# First Notebook"
   ]
  },
  {
   "cell_type": "markdown",
   "id": "dd7c6ea1",
   "metadata": {},
   "source": [
    "# variable in python\n"
   ]
  },
  {
   "cell_type": "code",
   "execution_count": 3,
   "id": "ced4b44c",
   "metadata": {},
   "outputs": [
    {
     "name": "stdout",
     "output_type": "stream",
     "text": [
      "22\n"
     ]
    }
   ],
   "source": [
    "x=22\n",
    "\n",
    "print(x)"
   ]
  },
  {
   "cell_type": "code",
   "execution_count": 4,
   "id": "56908687",
   "metadata": {},
   "outputs": [
    {
     "data": {
      "text/plain": [
       "int"
      ]
     },
     "execution_count": 4,
     "metadata": {},
     "output_type": "execute_result"
    }
   ],
   "source": [
    "type(x)"
   ]
  },
  {
   "cell_type": "code",
   "execution_count": 5,
   "id": "923ad8ab",
   "metadata": {},
   "outputs": [
    {
     "name": "stdout",
     "output_type": "stream",
     "text": [
      "Classmate Pulse\n"
     ]
    }
   ],
   "source": [
    "y= 'Classmate Pulse'\n",
    "\n",
    "print(y)"
   ]
  },
  {
   "cell_type": "code",
   "execution_count": 6,
   "id": "763918ac",
   "metadata": {},
   "outputs": [
    {
     "data": {
      "text/plain": [
       "str"
      ]
     },
     "execution_count": 6,
     "metadata": {},
     "output_type": "execute_result"
    }
   ],
   "source": [
    "type(y)"
   ]
  },
  {
   "cell_type": "code",
   "execution_count": 9,
   "id": "535d6473",
   "metadata": {},
   "outputs": [
    {
     "name": "stdout",
     "output_type": "stream",
     "text": [
      "flair\n",
      "parker\n",
      "doms\n"
     ]
    }
   ],
   "source": [
    "x,y,z = 'flair','parker','doms'\n",
    "\n",
    "print(x)\n",
    "print(y)\n",
    "print(z)"
   ]
  },
  {
   "cell_type": "code",
   "execution_count": 11,
   "id": "62313292",
   "metadata": {},
   "outputs": [
    {
     "name": "stdout",
     "output_type": "stream",
     "text": [
      "natraj\n",
      "natraj\n",
      "natraj\n"
     ]
    }
   ],
   "source": [
    "\n",
    "x=y=z= 'natraj'\n",
    "print(x)\n",
    "print(y)\n",
    "print(z)"
   ]
  },
  {
   "cell_type": "code",
   "execution_count": 15,
   "id": "d0c66bd4",
   "metadata": {},
   "outputs": [
    {
     "name": "stdout",
     "output_type": "stream",
     "text": [
      "flair\n",
      "parker\n",
      "doms\n"
     ]
    }
   ],
   "source": [
    "Pen_brands=['flair','parker','doms']\n",
    "x,y,z=Pen_brands\n",
    "print(x)\n",
    "print(y)\n",
    "print(z)"
   ]
  },
  {
   "cell_type": "code",
   "execution_count": null,
   "id": "48056015",
   "metadata": {},
   "outputs": [],
   "source": []
  },
  {
   "cell_type": "code",
   "execution_count": 16,
   "id": "ccb02f04",
   "metadata": {},
   "outputs": [],
   "source": [
    "# Camel case\n",
    "\n",
    "# Test variable case \n",
    "testVariableCase = 'Natraj'"
   ]
  },
  {
   "cell_type": "code",
   "execution_count": null,
   "id": "35958e6c",
   "metadata": {},
   "outputs": [],
   "source": [
    "# Pascal case\n",
    "\n",
    "# Test variable case \n",
    "TestVariableCase = 'Natraj'"
   ]
  },
  {
   "cell_type": "code",
   "execution_count": null,
   "id": "d6c768f9",
   "metadata": {},
   "outputs": [],
   "source": [
    "# Snake case\n",
    "\n",
    "# Test variable case \n",
    "test_variable_case = 'Natraj'"
   ]
  },
  {
   "cell_type": "code",
   "execution_count": 17,
   "id": "a7865a7b",
   "metadata": {},
   "outputs": [],
   "source": [
    "testvar = 'Natraj'\n",
    "test_var = 'Natraj'\n",
    "_test_var = 'Natraj'\n",
    "TestVar = 'Natraj'\n",
    "testVar = 'Natraj'\n",
    "testVar2 = 'Natraj'"
   ]
  },
  {
   "cell_type": "code",
   "execution_count": 18,
   "id": "2c5a5b94",
   "metadata": {},
   "outputs": [
    {
     "ename": "SyntaxError",
     "evalue": "invalid decimal literal (3229022430.py, line 1)",
     "output_type": "error",
     "traceback": [
      "\u001b[0;36m  Cell \u001b[0;32mIn[18], line 1\u001b[0;36m\u001b[0m\n\u001b[0;31m    2testVar = 'Natraj'\u001b[0m\n\u001b[0m    ^\u001b[0m\n\u001b[0;31mSyntaxError\u001b[0m\u001b[0;31m:\u001b[0m invalid decimal literal\n"
     ]
    }
   ],
   "source": [
    "2testVar = 'Natraj'\n",
    "test-Var2 = 'Natraj'\n",
    "test Var2 = 'Natraj'\n",
    "test,Var2 = 'Natraj'"
   ]
  },
  {
   "cell_type": "code",
   "execution_count": 21,
   "id": "b0dc6848",
   "metadata": {},
   "outputs": [
    {
     "name": "stdout",
     "output_type": "stream",
     "text": [
      "ice cream is my favourite.\n"
     ]
    }
   ],
   "source": [
    "x= 'ice cream is '+'my favourite'+'.'\n",
    "print(x)"
   ]
  },
  {
   "cell_type": "code",
   "execution_count": 23,
   "id": "96621d04",
   "metadata": {},
   "outputs": [
    {
     "name": "stdout",
     "output_type": "stream",
     "text": [
      "5\n"
     ]
    }
   ],
   "source": [
    "y=3+2\n",
    "print(y)"
   ]
  },
  {
   "cell_type": "code",
   "execution_count": 27,
   "id": "d41a7358",
   "metadata": {},
   "outputs": [
    {
     "name": "stdout",
     "output_type": "stream",
     "text": [
      "OnePlus is best.\n"
     ]
    }
   ],
   "source": [
    "x= 'OnePlus'\n",
    "y='is'\n",
    "z= 'best.'\n",
    "print(x,y,z)"
   ]
  },
  {
   "cell_type": "code",
   "execution_count": 31,
   "id": "785ca1c6",
   "metadata": {},
   "outputs": [
    {
     "name": "stdout",
     "output_type": "stream",
     "text": [
      "6\n"
     ]
    }
   ],
   "source": [
    "x=1\n",
    "y=2\n",
    "z=3\n",
    "print(x+y+z)"
   ]
  },
  {
   "cell_type": "code",
   "execution_count": 32,
   "id": "91dd0fd8",
   "metadata": {},
   "outputs": [
    {
     "name": "stdout",
     "output_type": "stream",
     "text": [
      "1 2 3\n"
     ]
    }
   ],
   "source": [
    "x=1\n",
    "y=2\n",
    "z=3\n",
    "print(x,y,z)"
   ]
  },
  {
   "cell_type": "code",
   "execution_count": 33,
   "id": "b528ab49",
   "metadata": {},
   "outputs": [
    {
     "name": "stdout",
     "output_type": "stream",
     "text": [
      "OnePlusisbest.\n"
     ]
    }
   ],
   "source": [
    "x= 'OnePlus'\n",
    "y='is'\n",
    "z= 'best.'\n",
    "print(x+y+z)"
   ]
  },
  {
   "cell_type": "code",
   "execution_count": 34,
   "id": "a00481c6",
   "metadata": {},
   "outputs": [
    {
     "name": "stdout",
     "output_type": "stream",
     "text": [
      "1 5\n"
     ]
    }
   ],
   "source": [
    "x=1\n",
    "y=2\n",
    "z=3\n",
    "print(x,y+z)"
   ]
  },
  {
   "cell_type": "code",
   "execution_count": 35,
   "id": "30e726fa",
   "metadata": {},
   "outputs": [
    {
     "name": "stdout",
     "output_type": "stream",
     "text": [
      "0\n"
     ]
    }
   ],
   "source": [
    "x=1\n",
    "y=2\n",
    "z=3\n",
    "print(x+y-z)"
   ]
  },
  {
   "cell_type": "code",
   "execution_count": null,
   "id": "fc15ef4c",
   "metadata": {},
   "outputs": [],
   "source": []
  }
 ],
 "metadata": {
  "kernelspec": {
   "display_name": "Python 3 (ipykernel)",
   "language": "python",
   "name": "python3"
  },
  "language_info": {
   "codemirror_mode": {
    "name": "ipython",
    "version": 3
   },
   "file_extension": ".py",
   "mimetype": "text/x-python",
   "name": "python",
   "nbconvert_exporter": "python",
   "pygments_lexer": "ipython3",
   "version": "3.11.4"
  }
 },
 "nbformat": 4,
 "nbformat_minor": 5
}
