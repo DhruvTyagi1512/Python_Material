{
 "cells": [
  {
   "cell_type": "markdown",
   "id": "ed588d9b",
   "metadata": {},
   "source": [
    "# Functions"
   ]
  },
  {
   "cell_type": "code",
   "execution_count": 1,
   "id": "e2228bc7",
   "metadata": {},
   "outputs": [],
   "source": [
    "def First_Func():\n",
    "    print('We did it!')"
   ]
  },
  {
   "cell_type": "code",
   "execution_count": 2,
   "id": "9a991bb7",
   "metadata": {},
   "outputs": [
    {
     "name": "stdout",
     "output_type": "stream",
     "text": [
      "We did it!\n"
     ]
    }
   ],
   "source": [
    "First_Func()"
   ]
  },
  {
   "cell_type": "code",
   "execution_count": 3,
   "id": "edd0c58f",
   "metadata": {},
   "outputs": [],
   "source": [
    "def numb_squared(number):\n",
    "    print(number**2)"
   ]
  },
  {
   "cell_type": "code",
   "execution_count": 4,
   "id": "56fc92e0",
   "metadata": {},
   "outputs": [
    {
     "name": "stdout",
     "output_type": "stream",
     "text": [
      "256\n"
     ]
    }
   ],
   "source": [
    "numb_squared(16)"
   ]
  },
  {
   "cell_type": "code",
   "execution_count": 5,
   "id": "e0c8ca16",
   "metadata": {},
   "outputs": [],
   "source": [
    "def numb_squared_custom(number,power):\n",
    "    print(number**power)"
   ]
  },
  {
   "cell_type": "code",
   "execution_count": 6,
   "id": "424f59e0",
   "metadata": {},
   "outputs": [
    {
     "name": "stdout",
     "output_type": "stream",
     "text": [
      "243\n"
     ]
    }
   ],
   "source": [
    "numb_squared_custom(3,5)"
   ]
  },
  {
   "cell_type": "code",
   "execution_count": 8,
   "id": "1040682c",
   "metadata": {},
   "outputs": [],
   "source": [
    "def number_args(*number):\n",
    "    print(number[0]*number[1])"
   ]
  },
  {
   "cell_type": "code",
   "execution_count": 9,
   "id": "a6bfedfb",
   "metadata": {},
   "outputs": [
    {
     "name": "stdout",
     "output_type": "stream",
     "text": [
      "15\n"
     ]
    }
   ],
   "source": [
    "number_args(3,5,6,7,2)"
   ]
  },
  {
   "cell_type": "code",
   "execution_count": 12,
   "id": "f2ee0313",
   "metadata": {},
   "outputs": [],
   "source": [
    "args_tuple = (3,5,6,7,2)\n",
    "\n",
    "\n",
    "def number_args(*number):\n",
    "    print(number[0]*number[1])"
   ]
  },
  {
   "cell_type": "code",
   "execution_count": 14,
   "id": "d64cb51a",
   "metadata": {},
   "outputs": [
    {
     "ename": "TypeError",
     "evalue": "can't multiply sequence by non-int of type 'list'",
     "output_type": "error",
     "traceback": [
      "\u001b[0;31m---------------------------------------------------------------------------\u001b[0m",
      "\u001b[0;31mTypeError\u001b[0m                                 Traceback (most recent call last)",
      "Cell \u001b[0;32mIn[14], line 1\u001b[0m\n\u001b[0;32m----> 1\u001b[0m number_args(args_tuple)\n",
      "Cell \u001b[0;32mIn[12], line 5\u001b[0m, in \u001b[0;36mnumber_args\u001b[0;34m(*args_tuple)\u001b[0m\n\u001b[1;32m      4\u001b[0m \u001b[38;5;28;01mdef\u001b[39;00m \u001b[38;5;21mnumber_args\u001b[39m(\u001b[38;5;241m*\u001b[39margs_tuple):\n\u001b[0;32m----> 5\u001b[0m     \u001b[38;5;28mprint\u001b[39m([\u001b[38;5;241m0\u001b[39m]\u001b[38;5;241m*\u001b[39m[\u001b[38;5;241m1\u001b[39m])\n",
      "\u001b[0;31mTypeError\u001b[0m: can't multiply sequence by non-int of type 'list'"
     ]
    }
   ],
   "source": [
    "number_args(args_tuple)"
   ]
  },
  {
   "cell_type": "code",
   "execution_count": 16,
   "id": "705bd09c",
   "metadata": {},
   "outputs": [],
   "source": [
    "args_tuple = (3,5,6,7,2)\n",
    "\n",
    "\n",
    "def number_args(*number):\n",
    "    print(number[0]*number[1])"
   ]
  },
  {
   "cell_type": "code",
   "execution_count": 17,
   "id": "20fa4497",
   "metadata": {},
   "outputs": [
    {
     "name": "stdout",
     "output_type": "stream",
     "text": [
      "15\n"
     ]
    }
   ],
   "source": [
    "number_args(*args_tuple)"
   ]
  },
  {
   "cell_type": "code",
   "execution_count": 18,
   "id": "aced42bd",
   "metadata": {},
   "outputs": [],
   "source": [
    "def numb_squared_custom(number,power):\n",
    "    print(number**power)"
   ]
  },
  {
   "cell_type": "code",
   "execution_count": 19,
   "id": "8d150d88",
   "metadata": {},
   "outputs": [
    {
     "name": "stdout",
     "output_type": "stream",
     "text": [
      "1296\n"
     ]
    }
   ],
   "source": [
    "numb_squared_custom(power = 4,number = 6)"
   ]
  },
  {
   "cell_type": "code",
   "execution_count": 26,
   "id": "db2a78d8",
   "metadata": {},
   "outputs": [],
   "source": [
    "def number_kwarg(**number):\n",
    "    print('My number is : ' + number['integer'])"
   ]
  },
  {
   "cell_type": "code",
   "execution_count": 27,
   "id": "07a566fd",
   "metadata": {},
   "outputs": [
    {
     "name": "stdout",
     "output_type": "stream",
     "text": [
      "My number is : 1512\n"
     ]
    }
   ],
   "source": [
    "number_kwarg(integer = '1512')"
   ]
  },
  {
   "cell_type": "code",
   "execution_count": 31,
   "id": "db80702b",
   "metadata": {},
   "outputs": [],
   "source": [
    "def number_kwarg(**number):\n",
    "    print('My number is : ' + number['integer'] + ' My other number is : ' + number['integer2'])"
   ]
  },
  {
   "cell_type": "code",
   "execution_count": 32,
   "id": "91cf5d72",
   "metadata": {},
   "outputs": [
    {
     "name": "stdout",
     "output_type": "stream",
     "text": [
      "My number is : 1512 My other number is : 2002\n"
     ]
    }
   ],
   "source": [
    "number_kwarg(integer = '1512', integer2 = '2002')"
   ]
  },
  {
   "cell_type": "code",
   "execution_count": null,
   "id": "cb7681c6",
   "metadata": {},
   "outputs": [],
   "source": []
  }
 ],
 "metadata": {
  "kernelspec": {
   "display_name": "Python 3 (ipykernel)",
   "language": "python",
   "name": "python3"
  },
  "language_info": {
   "codemirror_mode": {
    "name": "ipython",
    "version": 3
   },
   "file_extension": ".py",
   "mimetype": "text/x-python",
   "name": "python",
   "nbconvert_exporter": "python",
   "pygments_lexer": "ipython3",
   "version": "3.11.4"
  }
 },
 "nbformat": 4,
 "nbformat_minor": 5
}
