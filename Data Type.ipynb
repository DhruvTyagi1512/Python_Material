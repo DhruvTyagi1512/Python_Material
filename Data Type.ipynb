{
 "cells": [
  {
   "cell_type": "code",
   "execution_count": 1,
   "id": "66745735",
   "metadata": {},
   "outputs": [
    {
     "data": {
      "text/plain": [
       "int"
      ]
     },
     "execution_count": 1,
     "metadata": {},
     "output_type": "execute_result"
    }
   ],
   "source": [
    "type (12)"
   ]
  },
  {
   "cell_type": "code",
   "execution_count": 2,
   "id": "31b96725",
   "metadata": {},
   "outputs": [
    {
     "data": {
      "text/plain": [
       "int"
      ]
     },
     "execution_count": 2,
     "metadata": {},
     "output_type": "execute_result"
    }
   ],
   "source": [
    "type (-12)"
   ]
  },
  {
   "cell_type": "code",
   "execution_count": 3,
   "id": "543f6b88",
   "metadata": {},
   "outputs": [
    {
     "data": {
      "text/plain": [
       "int"
      ]
     },
     "execution_count": 3,
     "metadata": {},
     "output_type": "execute_result"
    }
   ],
   "source": [
    "type (-12+15)"
   ]
  },
  {
   "cell_type": "code",
   "execution_count": 4,
   "id": "9f55594d",
   "metadata": {},
   "outputs": [
    {
     "data": {
      "text/plain": [
       "float"
      ]
     },
     "execution_count": 4,
     "metadata": {},
     "output_type": "execute_result"
    }
   ],
   "source": [
    "type (12+15.4)"
   ]
  },
  {
   "cell_type": "code",
   "execution_count": 8,
   "id": "dcd2b1e9",
   "metadata": {},
   "outputs": [
    {
     "data": {
      "text/plain": [
       "complex"
      ]
     },
     "execution_count": 8,
     "metadata": {},
     "output_type": "execute_result"
    }
   ],
   "source": [
    "type (12+ 2j)"
   ]
  },
  {
   "cell_type": "code",
   "execution_count": 10,
   "id": "435436ed",
   "metadata": {},
   "outputs": [
    {
     "data": {
      "text/plain": [
       "bool"
      ]
     },
     "execution_count": 10,
     "metadata": {},
     "output_type": "execute_result"
    }
   ],
   "source": [
    "#Boolean\n",
    "\n",
    "type(True)"
   ]
  },
  {
   "cell_type": "code",
   "execution_count": 11,
   "id": "bee111ec",
   "metadata": {},
   "outputs": [
    {
     "data": {
      "text/plain": [
       "bool"
      ]
     },
     "execution_count": 11,
     "metadata": {},
     "output_type": "execute_result"
    }
   ],
   "source": [
    "\n",
    "type(False)"
   ]
  },
  {
   "cell_type": "code",
   "execution_count": 12,
   "id": "65d3430d",
   "metadata": {},
   "outputs": [
    {
     "data": {
      "text/plain": [
       "bool"
      ]
     },
     "execution_count": 12,
     "metadata": {},
     "output_type": "execute_result"
    }
   ],
   "source": [
    "\n",
    "type(1>4)"
   ]
  },
  {
   "cell_type": "code",
   "execution_count": 13,
   "id": "d9ba23d2",
   "metadata": {},
   "outputs": [
    {
     "data": {
      "text/plain": [
       "False"
      ]
     },
     "execution_count": 13,
     "metadata": {},
     "output_type": "execute_result"
    }
   ],
   "source": [
    "1>4"
   ]
  },
  {
   "cell_type": "code",
   "execution_count": 15,
   "id": "9c6e6c18",
   "metadata": {},
   "outputs": [
    {
     "data": {
      "text/plain": [
       "True"
      ]
     },
     "execution_count": 15,
     "metadata": {},
     "output_type": "execute_result"
    }
   ],
   "source": [
    "1==1\n"
   ]
  },
  {
   "cell_type": "code",
   "execution_count": 16,
   "id": "f1150882",
   "metadata": {},
   "outputs": [
    {
     "data": {
      "text/plain": [
       "'Single Quote'"
      ]
     },
     "execution_count": 16,
     "metadata": {},
     "output_type": "execute_result"
    }
   ],
   "source": [
    "# Strings\n",
    "'Single Quote'"
   ]
  },
  {
   "cell_type": "code",
   "execution_count": 17,
   "id": "8dbb8f3d",
   "metadata": {},
   "outputs": [
    {
     "data": {
      "text/plain": [
       "'Double Quote'"
      ]
     },
     "execution_count": 17,
     "metadata": {},
     "output_type": "execute_result"
    }
   ],
   "source": [
    "\"Double Quote\""
   ]
  },
  {
   "cell_type": "code",
   "execution_count": 23,
   "id": "6730aed4",
   "metadata": {},
   "outputs": [],
   "source": [
    "multiline= \"\"\"\n",
    "There once was a ship that put to sea\n",
    "And the name of the ship was the Billy o' Tea\n",
    "The winds blew hard, her bow dipped down\n",
    "Blow,\n",
    "my bully boys,\n",
    "blow \n",
    "\"\"\""
   ]
  },
  {
   "cell_type": "code",
   "execution_count": 24,
   "id": "d2f75396",
   "metadata": {},
   "outputs": [
    {
     "name": "stdout",
     "output_type": "stream",
     "text": [
      "\n",
      "There once was a ship that put to sea\n",
      "And the name of the ship was the Billy o' Tea\n",
      "The winds blew hard, her bow dipped down\n",
      "Blow,\n",
      "my bully boys,\n",
      "blow \n",
      "\n"
     ]
    }
   ],
   "source": [
    "print(multiline)"
   ]
  },
  {
   "cell_type": "code",
   "execution_count": 32,
   "id": "56f2dc38",
   "metadata": {},
   "outputs": [],
   "source": [
    "apple=\"\"\"\n",
    "I've always wanted to eat \"pineapple pizza\".\n",
    "\"\"\""
   ]
  },
  {
   "cell_type": "code",
   "execution_count": 33,
   "id": "07f1450a",
   "metadata": {},
   "outputs": [
    {
     "name": "stdout",
     "output_type": "stream",
     "text": [
      "\n",
      "I've always wanted to eat \"pineapple pizza\".\n",
      "\n"
     ]
    }
   ],
   "source": [
    "print(apple)"
   ]
  },
  {
   "cell_type": "code",
   "execution_count": 34,
   "id": "7499b462",
   "metadata": {},
   "outputs": [
    {
     "data": {
      "text/plain": [
       "str"
      ]
     },
     "execution_count": 34,
     "metadata": {},
     "output_type": "execute_result"
    }
   ],
   "source": [
    "type (multiline)"
   ]
  },
  {
   "cell_type": "code",
   "execution_count": 35,
   "id": "29c740fe",
   "metadata": {},
   "outputs": [
    {
     "data": {
      "text/plain": [
       "str"
      ]
     },
     "execution_count": 35,
     "metadata": {},
     "output_type": "execute_result"
    }
   ],
   "source": [
    "type(apple)"
   ]
  },
  {
   "cell_type": "code",
   "execution_count": 37,
   "id": "1074be5d",
   "metadata": {},
   "outputs": [
    {
     "name": "stdout",
     "output_type": "stream",
     "text": [
      "Hello\n"
     ]
    }
   ],
   "source": [
    "\n",
    "a='Hello World'\n",
    "print(a[:5])"
   ]
  },
  {
   "cell_type": "code",
   "execution_count": 38,
   "id": "e774eb0f",
   "metadata": {},
   "outputs": [
    {
     "name": "stdout",
     "output_type": "stream",
     "text": [
      " World\n"
     ]
    }
   ],
   "source": [
    "\n",
    "a='Hello World'\n",
    "print(a[5:])"
   ]
  },
  {
   "cell_type": "code",
   "execution_count": 40,
   "id": "4a2913d7",
   "metadata": {},
   "outputs": [
    {
     "name": "stdout",
     "output_type": "stream",
     "text": [
      "o\n"
     ]
    }
   ],
   "source": [
    "\n",
    "a='Hello World'\n",
    "print(a[4])"
   ]
  },
  {
   "cell_type": "code",
   "execution_count": 41,
   "id": "56f0b936",
   "metadata": {},
   "outputs": [
    {
     "name": "stdout",
     "output_type": "stream",
     "text": [
      "W\n"
     ]
    }
   ],
   "source": [
    "\n",
    "a='Hello World'\n",
    "print(a[6])"
   ]
  },
  {
   "cell_type": "code",
   "execution_count": 42,
   "id": "4041a4f0",
   "metadata": {},
   "outputs": [
    {
     "name": "stdout",
     "output_type": "stream",
     "text": [
      "W\n"
     ]
    }
   ],
   "source": [
    "\n",
    "a='Hello World'\n",
    "print(a[-5])"
   ]
  },
  {
   "cell_type": "code",
   "execution_count": 43,
   "id": "22905704",
   "metadata": {},
   "outputs": [
    {
     "name": "stdout",
     "output_type": "stream",
     "text": [
      "r\n"
     ]
    }
   ],
   "source": [
    "\n",
    "a='Hello World'\n",
    "print(a[-3])"
   ]
  },
  {
   "cell_type": "code",
   "execution_count": 44,
   "id": "55df6deb",
   "metadata": {},
   "outputs": [
    {
     "name": "stdout",
     "output_type": "stream",
     "text": [
      "ello\n"
     ]
    }
   ],
   "source": [
    "\n",
    "a='Hello World'\n",
    "print(a[1:5])"
   ]
  },
  {
   "cell_type": "code",
   "execution_count": 45,
   "id": "b3bef3ea",
   "metadata": {},
   "outputs": [
    {
     "data": {
      "text/plain": [
       "'Hello WorldHello WorldHello World'"
      ]
     },
     "execution_count": 45,
     "metadata": {},
     "output_type": "execute_result"
    }
   ],
   "source": [
    "a*3\n"
   ]
  },
  {
   "cell_type": "code",
   "execution_count": 46,
   "id": "ece4275c",
   "metadata": {},
   "outputs": [
    {
     "data": {
      "text/plain": [
       "'Hello WorldHello World'"
      ]
     },
     "execution_count": 46,
     "metadata": {},
     "output_type": "execute_result"
    }
   ],
   "source": [
    "a+a"
   ]
  },
  {
   "cell_type": "code",
   "execution_count": 47,
   "id": "5ea04d32",
   "metadata": {},
   "outputs": [
    {
     "ename": "TypeError",
     "evalue": "can't multiply sequence by non-int of type 'str'",
     "output_type": "error",
     "traceback": [
      "\u001b[0;31m---------------------------------------------------------------------------\u001b[0m",
      "\u001b[0;31mTypeError\u001b[0m                                 Traceback (most recent call last)",
      "Cell \u001b[0;32mIn[47], line 1\u001b[0m\n\u001b[0;32m----> 1\u001b[0m a\u001b[38;5;241m*\u001b[39ma\n",
      "\u001b[0;31mTypeError\u001b[0m: can't multiply sequence by non-int of type 'str'"
     ]
    }
   ],
   "source": [
    "a*a"
   ]
  },
  {
   "cell_type": "code",
   "execution_count": 1,
   "id": "4ab7a415",
   "metadata": {},
   "outputs": [
    {
     "data": {
      "text/plain": [
       "[1, 2, 3]"
      ]
     },
     "execution_count": 1,
     "metadata": {},
     "output_type": "execute_result"
    }
   ],
   "source": [
    "#list\n",
    "\n",
    "[1,2,3]"
   ]
  },
  {
   "cell_type": "code",
   "execution_count": 2,
   "id": "3be55185",
   "metadata": {},
   "outputs": [
    {
     "data": {
      "text/plain": [
       "['OnePlus', 'Nokia', 'Samsung']"
      ]
     },
     "execution_count": 2,
     "metadata": {},
     "output_type": "execute_result"
    }
   ],
   "source": [
    "['OnePlus','Nokia','Samsung']"
   ]
  },
  {
   "cell_type": "code",
   "execution_count": 3,
   "id": "1d924d1e",
   "metadata": {},
   "outputs": [
    {
     "data": {
      "text/plain": [
       "['OnePlus', 3, ['Phones', 'Buds'], True]"
      ]
     },
     "execution_count": 3,
     "metadata": {},
     "output_type": "execute_result"
    }
   ],
   "source": [
    "['OnePlus',3,['Phones','Buds'],True]"
   ]
  },
  {
   "cell_type": "code",
   "execution_count": 5,
   "id": "644c9832",
   "metadata": {},
   "outputs": [
    {
     "data": {
      "text/plain": [
       "['OnePlus', 'Nokia', 'Samsung', 'Apple']"
      ]
     },
     "execution_count": 5,
     "metadata": {},
     "output_type": "execute_result"
    }
   ],
   "source": [
    "Phone=['OnePlus','Nokia','Samsung']\n",
    "Phone.append ('Apple')\n",
    "Phone"
   ]
  },
  {
   "cell_type": "code",
   "execution_count": 6,
   "id": "28dab01b",
   "metadata": {},
   "outputs": [
    {
     "data": {
      "text/plain": [
       "['OnePlus', 'MI', 'Samsung', 'Apple']"
      ]
     },
     "execution_count": 6,
     "metadata": {},
     "output_type": "execute_result"
    }
   ],
   "source": [
    "Phone[1]= 'MI'\n",
    "Phone"
   ]
  },
  {
   "cell_type": "code",
   "execution_count": 7,
   "id": "90b4601c",
   "metadata": {},
   "outputs": [],
   "source": [
    "nest_list=['OnePlus', 3, ['Phones', 'Buds'], True]"
   ]
  },
  {
   "cell_type": "code",
   "execution_count": 9,
   "id": "8c3428d3",
   "metadata": {},
   "outputs": [
    {
     "data": {
      "text/plain": [
       "3"
      ]
     },
     "execution_count": 9,
     "metadata": {},
     "output_type": "execute_result"
    }
   ],
   "source": [
    "nest_list[1]"
   ]
  },
  {
   "cell_type": "code",
   "execution_count": 11,
   "id": "7f6447ea",
   "metadata": {},
   "outputs": [
    {
     "data": {
      "text/plain": [
       "'Buds'"
      ]
     },
     "execution_count": 11,
     "metadata": {},
     "output_type": "execute_result"
    }
   ],
   "source": [
    "nest_list[2][1]"
   ]
  },
  {
   "cell_type": "code",
   "execution_count": 13,
   "id": "979d5e60",
   "metadata": {},
   "outputs": [],
   "source": [
    "#tuple\n",
    "\n",
    "tuple_phone=(1,2,3,2,1)"
   ]
  },
  {
   "cell_type": "code",
   "execution_count": 14,
   "id": "07c67684",
   "metadata": {},
   "outputs": [
    {
     "data": {
      "text/plain": [
       "tuple"
      ]
     },
     "execution_count": 14,
     "metadata": {},
     "output_type": "execute_result"
    }
   ],
   "source": [
    "type(tuple_phone)"
   ]
  },
  {
   "cell_type": "code",
   "execution_count": 15,
   "id": "c5428faf",
   "metadata": {},
   "outputs": [
    {
     "ename": "AttributeError",
     "evalue": "'tuple' object has no attribute 'append'",
     "output_type": "error",
     "traceback": [
      "\u001b[0;31m---------------------------------------------------------------------------\u001b[0m",
      "\u001b[0;31mAttributeError\u001b[0m                            Traceback (most recent call last)",
      "Cell \u001b[0;32mIn[15], line 1\u001b[0m\n\u001b[0;32m----> 1\u001b[0m tuple_phone\u001b[38;5;241m.\u001b[39mappend(\u001b[38;5;241m1\u001b[39m)\n",
      "\u001b[0;31mAttributeError\u001b[0m: 'tuple' object has no attribute 'append'"
     ]
    }
   ],
   "source": [
    "tuple_phone.append(1)"
   ]
  },
  {
   "cell_type": "code",
   "execution_count": 16,
   "id": "69c4e44e",
   "metadata": {},
   "outputs": [],
   "source": [
    "# sets\n",
    "\n",
    "daily_log={1,2,3}"
   ]
  },
  {
   "cell_type": "code",
   "execution_count": 17,
   "id": "37da9754",
   "metadata": {},
   "outputs": [
    {
     "data": {
      "text/plain": [
       "set"
      ]
     },
     "execution_count": 17,
     "metadata": {},
     "output_type": "execute_result"
    }
   ],
   "source": [
    "type(daily_log)"
   ]
  },
  {
   "cell_type": "code",
   "execution_count": 18,
   "id": "70eb04ac",
   "metadata": {},
   "outputs": [
    {
     "name": "stdout",
     "output_type": "stream",
     "text": [
      "{1, 2, 3}\n"
     ]
    }
   ],
   "source": [
    "print(daily_log)"
   ]
  },
  {
   "cell_type": "code",
   "execution_count": 19,
   "id": "8a213feb",
   "metadata": {},
   "outputs": [
    {
     "name": "stdout",
     "output_type": "stream",
     "text": [
      "{1, 2, 3, 4, 5, 6, 41, 51, 213}\n"
     ]
    }
   ],
   "source": [
    "daily_log_goal={1,2,41,213,51,2,4,1,3,4,3,5,6}\n",
    "\n",
    "print(daily_log_goal)"
   ]
  },
  {
   "cell_type": "code",
   "execution_count": 20,
   "id": "138be91e",
   "metadata": {},
   "outputs": [],
   "source": [
    "worker_daily_log_goal={1,2,41,2,5,7,0,2,42,51,2,5,6}"
   ]
  },
  {
   "cell_type": "code",
   "execution_count": 21,
   "id": "988ce8b5",
   "metadata": {},
   "outputs": [
    {
     "name": "stdout",
     "output_type": "stream",
     "text": [
      "{0, 1, 2, 3, 4, 5, 6, 7, 41, 42, 51, 213}\n"
     ]
    }
   ],
   "source": [
    "print(daily_log_goal|worker_daily_log_goal)"
   ]
  },
  {
   "cell_type": "code",
   "execution_count": 22,
   "id": "0646e466",
   "metadata": {},
   "outputs": [
    {
     "name": "stdout",
     "output_type": "stream",
     "text": [
      "{1, 2, 5, 6, 41, 51}\n"
     ]
    }
   ],
   "source": [
    "print(daily_log_goal&worker_daily_log_goal)"
   ]
  },
  {
   "cell_type": "code",
   "execution_count": 23,
   "id": "9a897f41",
   "metadata": {},
   "outputs": [
    {
     "name": "stdout",
     "output_type": "stream",
     "text": [
      "{3, 4, 213}\n"
     ]
    }
   ],
   "source": [
    "print(daily_log_goal-worker_daily_log_goal)"
   ]
  },
  {
   "cell_type": "code",
   "execution_count": 24,
   "id": "433843c5",
   "metadata": {},
   "outputs": [
    {
     "name": "stdout",
     "output_type": "stream",
     "text": [
      "{0, 42, 7}\n"
     ]
    }
   ],
   "source": [
    "print(worker_daily_log_goal-daily_log_goal)"
   ]
  },
  {
   "cell_type": "code",
   "execution_count": 25,
   "id": "b872f399",
   "metadata": {},
   "outputs": [
    {
     "name": "stdout",
     "output_type": "stream",
     "text": [
      "{0, 3, 4, 7, 42, 213}\n"
     ]
    }
   ],
   "source": [
    "print(worker_daily_log_goal^daily_log_goal)"
   ]
  },
  {
   "cell_type": "code",
   "execution_count": 27,
   "id": "b40e3000",
   "metadata": {},
   "outputs": [],
   "source": [
    "# dictionaries\n",
    "#type/value pair\n",
    "\n",
    "dict_cricket={'name': 'Dhruv Tyagi','ipl_teams': 10, 'Favorite ipl team':['csk','Dhoni']}"
   ]
  },
  {
   "cell_type": "code",
   "execution_count": 28,
   "id": "28e4b124",
   "metadata": {},
   "outputs": [
    {
     "data": {
      "text/plain": [
       "dict"
      ]
     },
     "execution_count": 28,
     "metadata": {},
     "output_type": "execute_result"
    }
   ],
   "source": [
    "type(dict_cricket)"
   ]
  },
  {
   "cell_type": "code",
   "execution_count": 29,
   "id": "67a13544",
   "metadata": {},
   "outputs": [
    {
     "name": "stdout",
     "output_type": "stream",
     "text": [
      "{'name': 'Dhruv Tyagi', 'ipl_teams': 10, 'Favorite ipl team': ['csk', 'Dhoni']}\n"
     ]
    }
   ],
   "source": [
    "print(dict_cricket)"
   ]
  },
  {
   "cell_type": "code",
   "execution_count": 30,
   "id": "742aadbc",
   "metadata": {},
   "outputs": [
    {
     "data": {
      "text/plain": [
       "dict_values(['Dhruv Tyagi', 10, ['csk', 'Dhoni']])"
      ]
     },
     "execution_count": 30,
     "metadata": {},
     "output_type": "execute_result"
    }
   ],
   "source": [
    "dict_cricket.values()"
   ]
  },
  {
   "cell_type": "code",
   "execution_count": 32,
   "id": "effcd1db",
   "metadata": {},
   "outputs": [
    {
     "data": {
      "text/plain": [
       "dict_items([('name', 'Dhruv Tyagi'), ('ipl_teams', 10), ('Favorite ipl team', ['csk', 'Dhoni'])])"
      ]
     },
     "execution_count": 32,
     "metadata": {},
     "output_type": "execute_result"
    }
   ],
   "source": [
    "dict_cricket.items()"
   ]
  },
  {
   "cell_type": "code",
   "execution_count": 33,
   "id": "f5485aea",
   "metadata": {},
   "outputs": [
    {
     "data": {
      "text/plain": [
       "dict_keys(['name', 'ipl_teams', 'Favorite ipl team'])"
      ]
     },
     "execution_count": 33,
     "metadata": {},
     "output_type": "execute_result"
    }
   ],
   "source": [
    "dict_cricket.keys()"
   ]
  },
  {
   "cell_type": "code",
   "execution_count": 34,
   "id": "306807ae",
   "metadata": {},
   "outputs": [
    {
     "data": {
      "text/plain": [
       "'Dhruv Tyagi'"
      ]
     },
     "execution_count": 34,
     "metadata": {},
     "output_type": "execute_result"
    }
   ],
   "source": [
    "dict_cricket['name']"
   ]
  },
  {
   "cell_type": "code",
   "execution_count": 36,
   "id": "bf4c8066",
   "metadata": {},
   "outputs": [
    {
     "name": "stdout",
     "output_type": "stream",
     "text": [
      "{'name': 'Tyagi Dhruv', 'ipl_teams': 10, 'Favorite ipl team': ['csk', 'Dhoni']}\n"
     ]
    }
   ],
   "source": [
    "dict_cricket['name']= 'Tyagi Dhruv'\n",
    "print(dict_cricket)"
   ]
  },
  {
   "cell_type": "code",
   "execution_count": 46,
   "id": "43fb1a86",
   "metadata": {},
   "outputs": [],
   "source": [
    "dict_cricket.update({'name': 'Tyagi Dhruv', 'ipl_teams': 10, 'season': 16})"
   ]
  },
  {
   "cell_type": "code",
   "execution_count": 47,
   "id": "d32e76c8",
   "metadata": {},
   "outputs": [
    {
     "name": "stdout",
     "output_type": "stream",
     "text": [
      "{'name': 'Tyagi Dhruv', 'ipl_teams': 10, 'Favorite ipl team': ['csk', 'Dhoni'], 'season': 16}\n"
     ]
    }
   ],
   "source": [
    "print(dict_cricket)"
   ]
  },
  {
   "cell_type": "code",
   "execution_count": 48,
   "id": "14ca6989",
   "metadata": {},
   "outputs": [],
   "source": [
    "del dict_cricket['season']\n"
   ]
  },
  {
   "cell_type": "code",
   "execution_count": 49,
   "id": "fa4c2808",
   "metadata": {
    "scrolled": true
   },
   "outputs": [
    {
     "name": "stdout",
     "output_type": "stream",
     "text": [
      "{'name': 'Tyagi Dhruv', 'ipl_teams': 10, 'Favorite ipl team': ['csk', 'Dhoni']}\n"
     ]
    }
   ],
   "source": [
    "print(dict_cricket)"
   ]
  },
  {
   "cell_type": "code",
   "execution_count": 1,
   "id": "e29533f4",
   "metadata": {},
   "outputs": [
    {
     "ename": "NameError",
     "evalue": "name 'tuple_phone' is not defined",
     "output_type": "error",
     "traceback": [
      "\u001b[0;31m---------------------------------------------------------------------------\u001b[0m",
      "\u001b[0;31mNameError\u001b[0m                                 Traceback (most recent call last)",
      "Cell \u001b[0;32mIn[1], line 1\u001b[0m\n\u001b[0;32m----> 1\u001b[0m \u001b[38;5;28mprint\u001b[39m(tuple_phone)\n",
      "\u001b[0;31mNameError\u001b[0m: name 'tuple_phone' is not defined"
     ]
    }
   ],
   "source": [
    "print(tuple_phone)"
   ]
  },
  {
   "cell_type": "code",
   "execution_count": 2,
   "id": "64ab0cd4",
   "metadata": {},
   "outputs": [],
   "source": [
    "tuple_phone=(1,2,3,2,1)"
   ]
  },
  {
   "cell_type": "code",
   "execution_count": 3,
   "id": "ae2589f3",
   "metadata": {},
   "outputs": [
    {
     "name": "stdout",
     "output_type": "stream",
     "text": [
      "(1, 2, 3, 2, 1)\n"
     ]
    }
   ],
   "source": [
    "print(tuple_phone)"
   ]
  },
  {
   "cell_type": "code",
   "execution_count": null,
   "id": "8d69b7a3",
   "metadata": {},
   "outputs": [],
   "source": []
  }
 ],
 "metadata": {
  "kernelspec": {
   "display_name": "Python 3 (ipykernel)",
   "language": "python",
   "name": "python3"
  },
  "language_info": {
   "codemirror_mode": {
    "name": "ipython",
    "version": 3
   },
   "file_extension": ".py",
   "mimetype": "text/x-python",
   "name": "python",
   "nbconvert_exporter": "python",
   "pygments_lexer": "ipython3",
   "version": "3.11.4"
  }
 },
 "nbformat": 4,
 "nbformat_minor": 5
}
