{
 "cells": [
  {
   "cell_type": "markdown",
   "id": "df7d2f2d",
   "metadata": {},
   "source": [
    "# If-Elif-Else Statement\n"
   ]
  },
  {
   "cell_type": "code",
   "execution_count": 1,
   "id": "396d6dae",
   "metadata": {},
   "outputs": [
    {
     "name": "stdout",
     "output_type": "stream",
     "text": [
      "It Worked!\n"
     ]
    }
   ],
   "source": [
    "if 25 > 20:\n",
    "    print('It Worked!')"
   ]
  },
  {
   "cell_type": "code",
   "execution_count": 2,
   "id": "bc8c4e97",
   "metadata": {},
   "outputs": [],
   "source": [
    "if 25 < 20:\n",
    "    print('It Worked!')"
   ]
  },
  {
   "cell_type": "code",
   "execution_count": 3,
   "id": "58d5da5c",
   "metadata": {},
   "outputs": [
    {
     "name": "stdout",
     "output_type": "stream",
     "text": [
      "It Worked!\n"
     ]
    }
   ],
   "source": [
    "if 25 > 20:\n",
    "    print('It Worked!')\n",
    "else:\n",
    "    print(' It did not work...')"
   ]
  },
  {
   "cell_type": "code",
   "execution_count": 4,
   "id": "d0e71d05",
   "metadata": {},
   "outputs": [
    {
     "name": "stdout",
     "output_type": "stream",
     "text": [
      " It did not work...\n"
     ]
    }
   ],
   "source": [
    "if 25 < 20:\n",
    "    print('It Worked!')\n",
    "else:\n",
    "    print(' It did not work...')"
   ]
  },
  {
   "cell_type": "code",
   "execution_count": 6,
   "id": "ca618019",
   "metadata": {},
   "outputs": [
    {
     "name": "stdout",
     "output_type": "stream",
     "text": [
      "Elif Worked!\n"
     ]
    }
   ],
   "source": [
    "if 25 < 20:\n",
    "    print('It Worked!')\n",
    "elif 25 < 30:\n",
    "    print('Elif Worked!')\n",
    "else:\n",
    "    print(' It did not work...')"
   ]
  },
  {
   "cell_type": "code",
   "execution_count": 7,
   "id": "1619b4a9",
   "metadata": {},
   "outputs": [
    {
     "name": "stdout",
     "output_type": "stream",
     "text": [
      "Elif 4 Worked!\n"
     ]
    }
   ],
   "source": [
    "if 25 < 20:\n",
    "    print('It Worked!')\n",
    "elif 25 < 21:\n",
    "    print('Elif 1 Worked!')\n",
    "elif 25 < 21:\n",
    "    print('Elif 2 Worked!')\n",
    "elif 25 < 23:\n",
    "    print('Elif 3 Worked!')\n",
    "elif 25 < 30:\n",
    "    print('Elif 4 Worked!')\n",
    "elif 25 < 40:\n",
    "    print('Elif 5 Worked!')\n",
    "else:\n",
    "    print(' It did not work...')"
   ]
  },
  {
   "cell_type": "code",
   "execution_count": 8,
   "id": "6b13beaf",
   "metadata": {},
   "outputs": [
    {
     "name": "stdout",
     "output_type": "stream",
     "text": [
      "It Worked!\n"
     ]
    }
   ],
   "source": [
    "if (25 < 20) or (1 < 3):\n",
    "    print('It Worked!')\n",
    "elif 25 < 21:\n",
    "    print('Elif 1 Worked!')\n",
    "elif 25 < 21:\n",
    "    print('Elif 2 Worked!')\n",
    "elif 25 < 23:\n",
    "    print('Elif 3 Worked!')\n",
    "elif 25 < 30:\n",
    "    print('Elif 4 Worked!')\n",
    "elif 25 < 40:\n",
    "    print('Elif 5 Worked!')\n",
    "else:\n",
    "    print(' It did not work...')"
   ]
  },
  {
   "cell_type": "code",
   "execution_count": 9,
   "id": "883de717",
   "metadata": {},
   "outputs": [
    {
     "name": "stdout",
     "output_type": "stream",
     "text": [
      "It did not work...\n"
     ]
    }
   ],
   "source": [
    "print('It Worked!') if 10 > 30 else print('It did not work...')"
   ]
  },
  {
   "cell_type": "code",
   "execution_count": 11,
   "id": "be8ef84b",
   "metadata": {},
   "outputs": [
    {
     "name": "stdout",
     "output_type": "stream",
     "text": [
      "It Worked!\n",
      "This nested if statement worked!\n"
     ]
    }
   ],
   "source": [
    "if (25 < 20) or (1 < 3):\n",
    "    print('It Worked!')\n",
    "    if 10 > 5:\n",
    "        print('This nested if statement worked!')\n",
    "elif 25 < 21:\n",
    "    print('Elif 1 Worked!')\n",
    "elif 25 < 21:\n",
    "    print('Elif 2 Worked!')\n",
    "elif 25 < 23:\n",
    "    print('Elif 3 Worked!')\n",
    "elif 25 < 30:\n",
    "    print('Elif 4 Worked!')\n",
    "elif 25 < 40:\n",
    "    print('Elif 5 Worked!')\n",
    "else:\n",
    "    print(' It did not work...')"
   ]
  },
  {
   "cell_type": "code",
   "execution_count": null,
   "id": "6d9842fd",
   "metadata": {},
   "outputs": [],
   "source": []
  },
  {
   "cell_type": "code",
   "execution_count": null,
   "id": "42ef0f79",
   "metadata": {},
   "outputs": [],
   "source": []
  },
  {
   "cell_type": "code",
   "execution_count": null,
   "id": "47c7c222",
   "metadata": {},
   "outputs": [],
   "source": []
  },
  {
   "cell_type": "code",
   "execution_count": null,
   "id": "767ae3bf",
   "metadata": {},
   "outputs": [],
   "source": []
  }
 ],
 "metadata": {
  "kernelspec": {
   "display_name": "Python 3 (ipykernel)",
   "language": "python",
   "name": "python3"
  },
  "language_info": {
   "codemirror_mode": {
    "name": "ipython",
    "version": 3
   },
   "file_extension": ".py",
   "mimetype": "text/x-python",
   "name": "python",
   "nbconvert_exporter": "python",
   "pygments_lexer": "ipython3",
   "version": "3.11.4"
  }
 },
 "nbformat": 4,
 "nbformat_minor": 5
}
