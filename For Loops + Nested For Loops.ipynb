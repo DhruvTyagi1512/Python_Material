{
 "cells": [
  {
   "cell_type": "code",
   "execution_count": 3,
   "id": "c3956053",
   "metadata": {},
   "outputs": [],
   "source": [
    "Integers = [1,2,3,4,5]"
   ]
  },
  {
   "cell_type": "code",
   "execution_count": 4,
   "id": "19b15812",
   "metadata": {},
   "outputs": [
    {
     "name": "stdout",
     "output_type": "stream",
     "text": [
      "1\n",
      "2\n",
      "3\n",
      "4\n",
      "5\n"
     ]
    }
   ],
   "source": [
    "for number in Integers:\n",
    "    print(number)"
   ]
  },
  {
   "cell_type": "code",
   "execution_count": 5,
   "id": "7758fc31",
   "metadata": {},
   "outputs": [
    {
     "name": "stdout",
     "output_type": "stream",
     "text": [
      "yes!\n",
      "yes!\n",
      "yes!\n",
      "yes!\n",
      "yes!\n"
     ]
    }
   ],
   "source": [
    "for number in Integers:\n",
    "    print('yes!')"
   ]
  },
  {
   "cell_type": "code",
   "execution_count": 6,
   "id": "0cffeae8",
   "metadata": {},
   "outputs": [],
   "source": [
    "Integers = [1,2,3,4,5]"
   ]
  },
  {
   "cell_type": "code",
   "execution_count": 7,
   "id": "8c2ac8fc",
   "metadata": {},
   "outputs": [
    {
     "name": "stdout",
     "output_type": "stream",
     "text": [
      "2\n",
      "4\n",
      "6\n",
      "8\n",
      "10\n"
     ]
    }
   ],
   "source": [
    "for Jelly in Integers:\n",
    "    print(Jelly + Jelly)"
   ]
  },
  {
   "cell_type": "code",
   "execution_count": 8,
   "id": "c9ebe432",
   "metadata": {},
   "outputs": [],
   "source": [
    "dict_cricket={'name': 'Dhruv Tyagi','ipl_teams': 10, 'Favorite ipl team':['csk','Dhoni']}"
   ]
  },
  {
   "cell_type": "code",
   "execution_count": 10,
   "id": "b666f0b4",
   "metadata": {},
   "outputs": [
    {
     "name": "stdout",
     "output_type": "stream",
     "text": [
      "Dhruv Tyagi\n",
      "10\n",
      "['csk', 'Dhoni']\n"
     ]
    }
   ],
   "source": [
    "for cricket in dict_cricket.values():\n",
    "    print(cricket)"
   ]
  },
  {
   "cell_type": "code",
   "execution_count": 13,
   "id": "8ab5a4b5",
   "metadata": {},
   "outputs": [
    {
     "name": "stdout",
     "output_type": "stream",
     "text": [
      "name -> Dhruv Tyagi\n",
      "ipl_teams -> 10\n",
      "Favorite ipl team -> ['csk', 'Dhoni']\n"
     ]
    }
   ],
   "source": [
    "for key,values in dict_cricket.items():\n",
    "    print(key, '->', values)"
   ]
  },
  {
   "cell_type": "markdown",
   "id": "02bd8d19",
   "metadata": {},
   "source": [
    "# Nested For Loop"
   ]
  },
  {
   "cell_type": "code",
   "execution_count": 16,
   "id": "5122a367",
   "metadata": {},
   "outputs": [],
   "source": [
    "flavors = ['Vanilla', 'Chocolate', 'Cookie Dough']\n",
    "toppings = ['Hot Fudge','Oreos','Marshmallow']"
   ]
  },
  {
   "cell_type": "code",
   "execution_count": 18,
   "id": "f80f93f4",
   "metadata": {
    "scrolled": true
   },
   "outputs": [
    {
     "name": "stdout",
     "output_type": "stream",
     "text": [
      "Vanilla topped with Hot Fudge\n",
      "Vanilla topped with Oreos\n",
      "Vanilla topped with Marshmallow\n",
      "Chocolate topped with Hot Fudge\n",
      "Chocolate topped with Oreos\n",
      "Chocolate topped with Marshmallow\n",
      "Cookie Dough topped with Hot Fudge\n",
      "Cookie Dough topped with Oreos\n",
      "Cookie Dough topped with Marshmallow\n"
     ]
    }
   ],
   "source": [
    "for one in flavors:\n",
    "    for two in toppings:\n",
    "        print(one, 'topped with' , two)"
   ]
  },
  {
   "cell_type": "code",
   "execution_count": null,
   "id": "f299b1c8",
   "metadata": {},
   "outputs": [],
   "source": []
  },
  {
   "cell_type": "code",
   "execution_count": null,
   "id": "3d9d0bbf",
   "metadata": {},
   "outputs": [],
   "source": []
  },
  {
   "cell_type": "code",
   "execution_count": null,
   "id": "3e82a955",
   "metadata": {},
   "outputs": [],
   "source": []
  }
 ],
 "metadata": {
  "kernelspec": {
   "display_name": "Python 3 (ipykernel)",
   "language": "python",
   "name": "python3"
  },
  "language_info": {
   "codemirror_mode": {
    "name": "ipython",
    "version": 3
   },
   "file_extension": ".py",
   "mimetype": "text/x-python",
   "name": "python",
   "nbconvert_exporter": "python",
   "pygments_lexer": "ipython3",
   "version": "3.11.4"
  }
 },
 "nbformat": 4,
 "nbformat_minor": 5
}
